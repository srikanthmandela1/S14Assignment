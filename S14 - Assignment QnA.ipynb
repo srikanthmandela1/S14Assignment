{
 "cells": [
  {
   "cell_type": "code",
   "execution_count": 8,
   "id": "cde6a050",
   "metadata": {},
   "outputs": [
    {
     "name": "stdout",
     "output_type": "stream",
     "text": [
      "Requirement already satisfied: openai in c:\\users\\srikanth.mandela\\anaconda3\\lib\\site-packages (0.27.8)\n",
      "Requirement already satisfied: aiohttp in c:\\users\\srikanth.mandela\\anaconda3\\lib\\site-packages (from openai) (3.8.4)\n",
      "Requirement already satisfied: tqdm in c:\\users\\srikanth.mandela\\anaconda3\\lib\\site-packages (from openai) (4.64.1)\n",
      "Requirement already satisfied: requests>=2.20 in c:\\users\\srikanth.mandela\\anaconda3\\lib\\site-packages (from openai) (2.28.1)\n",
      "Requirement already satisfied: charset-normalizer<3,>=2 in c:\\users\\srikanth.mandela\\anaconda3\\lib\\site-packages (from requests>=2.20->openai) (2.0.4)\n",
      "Requirement already satisfied: urllib3<1.27,>=1.21.1 in c:\\users\\srikanth.mandela\\anaconda3\\lib\\site-packages (from requests>=2.20->openai) (1.26.11)\n",
      "Requirement already satisfied: idna<4,>=2.5 in c:\\users\\srikanth.mandela\\anaconda3\\lib\\site-packages (from requests>=2.20->openai) (3.3)\n",
      "Requirement already satisfied: certifi>=2017.4.17 in c:\\users\\srikanth.mandela\\anaconda3\\lib\\site-packages (from requests>=2.20->openai) (2022.9.14)\n",
      "Requirement already satisfied: frozenlist>=1.1.1 in c:\\users\\srikanth.mandela\\anaconda3\\lib\\site-packages (from aiohttp->openai) (1.3.3)\n",
      "Requirement already satisfied: async-timeout<5.0,>=4.0.0a3 in c:\\users\\srikanth.mandela\\anaconda3\\lib\\site-packages (from aiohttp->openai) (4.0.2)\n",
      "Requirement already satisfied: attrs>=17.3.0 in c:\\users\\srikanth.mandela\\anaconda3\\lib\\site-packages (from aiohttp->openai) (21.4.0)\n",
      "Requirement already satisfied: aiosignal>=1.1.2 in c:\\users\\srikanth.mandela\\anaconda3\\lib\\site-packages (from aiohttp->openai) (1.3.1)\n",
      "Requirement already satisfied: yarl<2.0,>=1.0 in c:\\users\\srikanth.mandela\\anaconda3\\lib\\site-packages (from aiohttp->openai) (1.9.2)\n",
      "Requirement already satisfied: multidict<7.0,>=4.5 in c:\\users\\srikanth.mandela\\anaconda3\\lib\\site-packages (from aiohttp->openai) (6.0.4)\n",
      "Requirement already satisfied: colorama in c:\\users\\srikanth.mandela\\anaconda3\\lib\\site-packages (from tqdm->openai) (0.4.5)\n",
      "Note: you may need to restart the kernel to use updated packages.\n"
     ]
    },
    {
     "name": "stderr",
     "output_type": "stream",
     "text": [
      "WARNING: Ignoring invalid distribution -rotobuf (c:\\users\\srikanth.mandela\\anaconda3\\lib\\site-packages)\n",
      "WARNING: Ignoring invalid distribution -rotobuf (c:\\users\\srikanth.mandela\\anaconda3\\lib\\site-packages)\n",
      "WARNING: Ignoring invalid distribution -rotobuf (c:\\users\\srikanth.mandela\\anaconda3\\lib\\site-packages)\n",
      "WARNING: Ignoring invalid distribution -rotobuf (c:\\users\\srikanth.mandela\\anaconda3\\lib\\site-packages)\n",
      "WARNING: Ignoring invalid distribution -rotobuf (c:\\users\\srikanth.mandela\\anaconda3\\lib\\site-packages)\n",
      "WARNING: Ignoring invalid distribution -rotobuf (c:\\users\\srikanth.mandela\\anaconda3\\lib\\site-packages)\n"
     ]
    }
   ],
   "source": [
    "pip install openai\n"
   ]
  },
  {
   "cell_type": "code",
   "execution_count": 9,
   "id": "23ec14f4",
   "metadata": {},
   "outputs": [],
   "source": [
    "openai.api_key = 'YOUR_API_KEY'\n"
   ]
  },
  {
   "cell_type": "code",
   "execution_count": 15,
   "id": "05b89e24",
   "metadata": {},
   "outputs": [
    {
     "name": "stdout",
     "output_type": "stream",
     "text": [
      "OpenAI Error: <empty message>\n",
      "OpenAI Error: <empty message>\n",
      "OpenAI Error: <empty message>\n",
      "OpenAI Error: <empty message>\n",
      "OpenAI Error: <empty message>\n"
     ]
    }
   ],
   "source": [
    "import openai\n",
    "from openai.error import OpenAIError\n",
    "\n",
    "# Set up OpenAI API credentials\n",
    "openai.api_key = 'YOUR_API_KEY'\n",
    "\n",
    "# Define the prompt and the different styles\n",
    "prompt = \"What is the capital of France?\"\n",
    "styles = [\n",
    "    {\n",
    "        \"name\": \"Formal\",\n",
    "        \"seed\": 12345,\n",
    "    },\n",
    "    {\n",
    "        \"name\": \"Casual\",\n",
    "        \"seed\": 98765,\n",
    "    },\n",
    "    {\n",
    "        \"name\": \"Poetic\",\n",
    "        \"seed\": 24680,\n",
    "    },\n",
    "    {\n",
    "        \"name\": \"Technical\",\n",
    "        \"seed\": 13579,\n",
    "    },\n",
    "    {\n",
    "        \"name\": \"Playful\",\n",
    "        \"seed\": 54321,\n",
    "    },\n",
    "]\n",
    "\n",
    "# Generate outputs for each style\n",
    "for style in styles:\n",
    "    try:\n",
    "        response = openai.Completion.create(\n",
    "            engine=\"text-davinci-003\",\n",
    "            prompt=prompt,\n",
    "            max_tokens=50,\n",
    "            temperature=0.6,\n",
    "            n=1,\n",
    "            stop=None,\n",
    "            seed=style[\"seed\"],\n",
    "        )\n",
    "        output = response.choices[0].text.strip()\n",
    "\n",
    "        print(f\"Style: {style['name']}\")\n",
    "        print(f\"Output: {output}\")\n",
    "        print()\n",
    "    except OpenAIError as e:\n",
    "        print(f\"OpenAI Error: {e}\")\n"
   ]
  },
  {
   "cell_type": "code",
   "execution_count": 16,
   "id": "ba744676",
   "metadata": {},
   "outputs": [
    {
     "name": "stdout",
     "output_type": "stream",
     "text": [
      "Blue Loss: 0.04666666666666669\n"
     ]
    }
   ],
   "source": [
    "import numpy as np\n",
    "\n",
    "# Define a custom loss function\n",
    "def blue_loss(predictions, targets):\n",
    "    # Calculate the difference between predictions and targets\n",
    "    diff = predictions - targets\n",
    "\n",
    "    # Apply any desired transformation or calculation on the difference\n",
    "    # For example, you can square the difference and take the mean\n",
    "    loss = np.mean(np.square(diff))\n",
    "\n",
    "    return loss\n",
    "\n",
    "# Example usage\n",
    "predictions = np.array([0.5, 0.7, 0.3])\n",
    "targets = np.array([0.8, 0.9, 0.2])\n",
    "\n",
    "loss = blue_loss(predictions, targets)\n",
    "print(f\"Blue Loss: {loss}\")\n"
   ]
  },
  {
   "cell_type": "code",
   "execution_count": 21,
   "id": "124e0f77",
   "metadata": {},
   "outputs": [
    {
     "name": "stdout",
     "output_type": "stream",
     "text": [
      "Requirement already satisfied: tweepy in c:\\users\\srikanth.mandela\\anaconda3\\lib\\site-packages (4.14.0)\n",
      "Requirement already satisfied: oauthlib<4,>=3.2.0 in c:\\users\\srikanth.mandela\\anaconda3\\lib\\site-packages (from tweepy) (3.2.2)\n",
      "Requirement already satisfied: requests<3,>=2.27.0 in c:\\users\\srikanth.mandela\\anaconda3\\lib\\site-packages (from tweepy) (2.28.1)\n",
      "Requirement already satisfied: requests-oauthlib<2,>=1.2.0 in c:\\users\\srikanth.mandela\\anaconda3\\lib\\site-packages (from tweepy) (1.3.1)\n",
      "Requirement already satisfied: charset-normalizer<3,>=2 in c:\\users\\srikanth.mandela\\anaconda3\\lib\\site-packages (from requests<3,>=2.27.0->tweepy) (2.0.4)\n",
      "Requirement already satisfied: certifi>=2017.4.17 in c:\\users\\srikanth.mandela\\anaconda3\\lib\\site-packages (from requests<3,>=2.27.0->tweepy) (2022.9.14)\n",
      "Requirement already satisfied: idna<4,>=2.5 in c:\\users\\srikanth.mandela\\anaconda3\\lib\\site-packages (from requests<3,>=2.27.0->tweepy) (3.3)\n",
      "Requirement already satisfied: urllib3<1.27,>=1.21.1 in c:\\users\\srikanth.mandela\\anaconda3\\lib\\site-packages (from requests<3,>=2.27.0->tweepy) (1.26.11)\n",
      "Note: you may need to restart the kernel to use updated packages.\n"
     ]
    },
    {
     "name": "stderr",
     "output_type": "stream",
     "text": [
      "WARNING: Ignoring invalid distribution -rotobuf (c:\\users\\srikanth.mandela\\anaconda3\\lib\\site-packages)\n",
      "WARNING: Ignoring invalid distribution -rotobuf (c:\\users\\srikanth.mandela\\anaconda3\\lib\\site-packages)\n",
      "WARNING: Ignoring invalid distribution -rotobuf (c:\\users\\srikanth.mandela\\anaconda3\\lib\\site-packages)\n",
      "WARNING: Ignoring invalid distribution -rotobuf (c:\\users\\srikanth.mandela\\anaconda3\\lib\\site-packages)\n",
      "WARNING: Ignoring invalid distribution -rotobuf (c:\\users\\srikanth.mandela\\anaconda3\\lib\\site-packages)\n",
      "WARNING: Ignoring invalid distribution -rotobuf (c:\\users\\srikanth.mandela\\anaconda3\\lib\\site-packages)\n"
     ]
    }
   ],
   "source": [
    "pip install tweepy\n"
   ]
  },
  {
   "cell_type": "code",
   "execution_count": 23,
   "id": "c8419e65",
   "metadata": {},
   "outputs": [
    {
     "name": "stdout",
     "output_type": "stream",
     "text": [
      "Error posting tweet with image image1.jpg: [Errno 2] No such file or directory: 'image1.jpg'\n",
      "Error posting tweet with image image2.jpg: [Errno 2] No such file or directory: 'image2.jpg'\n",
      "Error posting tweet with image image3.jpg: [Errno 2] No such file or directory: 'image3.jpg'\n"
     ]
    }
   ],
   "source": [
    "import tweepy\n",
    "\n",
    "# Twitter API credentials\n",
    "consumer_key = 'YOUR_CONSUMER_KEY'\n",
    "consumer_secret = 'YOUR_CONSUMER_SECRET'\n",
    "access_token = 'YOUR_ACCESS_TOKEN'\n",
    "access_token_secret = 'YOUR_ACCESS_TOKEN_SECRET'\n",
    "\n",
    "# Authenticate with Twitter API\n",
    "auth = tweepy.OAuthHandler(consumer_key, consumer_secret)\n",
    "auth.set_access_token(access_token, access_token_secret)\n",
    "\n",
    "# Create API object\n",
    "api = tweepy.API(auth)\n",
    "\n",
    "# List of image file paths\n",
    "image_files = ['image1.jpg', 'image2.jpg', 'image3.jpg']\n",
    "\n",
    "# Upload images and post tweets\n",
    "for image_file in image_files:\n",
    "    try:\n",
    "        # Upload image\n",
    "        media = api.media_upload(image_file)\n",
    "\n",
    "        # Post tweet with the uploaded image\n",
    "        tweet_text = 'Check out this amazing image!'\n",
    "        post_tweet = api.update_status(status=tweet_text, media_ids=[media.media_id])\n",
    "        print(f\"Tweet posted with image: {image_file}\")\n",
    "    except Exception as e:\n",
    "        print(f\"Error posting tweet with image {image_file}: {e}\")\n"
   ]
  },
  {
   "cell_type": "code",
   "execution_count": null,
   "id": "6db9fc7c",
   "metadata": {},
   "outputs": [],
   "source": []
  },
  {
   "cell_type": "code",
   "execution_count": null,
   "id": "715be606",
   "metadata": {},
   "outputs": [],
   "source": []
  }
 ],
 "metadata": {
  "kernelspec": {
   "display_name": "Python 3 (ipykernel)",
   "language": "python",
   "name": "python3"
  },
  "language_info": {
   "codemirror_mode": {
    "name": "ipython",
    "version": 3
   },
   "file_extension": ".py",
   "mimetype": "text/x-python",
   "name": "python",
   "nbconvert_exporter": "python",
   "pygments_lexer": "ipython3",
   "version": "3.9.13"
  }
 },
 "nbformat": 4,
 "nbformat_minor": 5
}
